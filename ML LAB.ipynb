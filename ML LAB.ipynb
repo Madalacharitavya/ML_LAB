{
 "cells": [
  {
   "cell_type": "markdown",
   "id": "90e29d67",
   "metadata": {},
   "source": [
    "# MACHINE LEARNING LAB(CSE-336L)\n",
    "                                                                                             M.NAGACHARITAVYA\n",
    "                                                                                               AP21110010027\n",
    "                                                                                                  CSE-A"
   ]
  },
  {
   "cell_type": "markdown",
   "id": "a5e7fc0d",
   "metadata": {},
   "source": [
    "# Introduction to NumPy"
   ]
  },
  {
   "cell_type": "markdown",
   "id": "41e68daa",
   "metadata": {},
   "source": [
    "#### NumPy is a Python library that handles numerical computation. It supports large, multidimensional arrays and matrices, as well as mathematical functions that can be applied to them. The efficiency and versatility of NumPy make it popular in scientific computing, data analysis, and machine learning."
   ]
  },
  {
   "cell_type": "markdown",
   "id": "aa3c7efd",
   "metadata": {},
   "source": [
    "### 1. Write a NumPy program to multiply two given arrays of same size element-by-element."
   ]
  },
  {
   "cell_type": "code",
   "execution_count": 1,
   "id": "38d8bb41",
   "metadata": {},
   "outputs": [
    {
     "name": "stdout",
     "output_type": "stream",
     "text": [
      "Array 1: [ 2  4  6  8 10]\n",
      "Array 2: [1 3 5 7 9]\n",
      "Resultant Array (Element-wise multiplication): [ 2 12 30 56 90]\n"
     ]
    }
   ],
   "source": [
    "import numpy as np\n",
    "\n",
    "array1 = np.array([2, 4, 6, 8, 10])\n",
    "array2 = np.array([1, 3, 5, 7, 9])\n",
    "\n",
    "result_array = np.multiply(array1, array2)\n",
    "\n",
    "print(\"Array 1:\", array1)\n",
    "print(\"Array 2:\", array2)\n",
    "print(\"Resultant Array (Element-wise multiplication):\", result_array)"
   ]
  },
  {
   "cell_type": "markdown",
   "id": "fdf5b12e",
   "metadata": {},
   "source": [
    "### 2. Write a NumPy program to find the missing data in a given array."
   ]
  },
  {
   "cell_type": "code",
   "execution_count": 2,
   "id": "3b57b5ab",
   "metadata": {},
   "outputs": [
    {
     "name": "stdout",
     "output_type": "stream",
     "text": [
      "Original 2D Array:\n",
      "[[ 1.  2.  3.]\n",
      " [ 4. nan  6.]\n",
      " [ 7.  8. nan]]\n",
      "\n",
      "Indices of Missing Data:\n",
      "[[False False False]\n",
      " [False  True False]\n",
      " [False False  True]]\n"
     ]
    }
   ],
   "source": [
    "import numpy as np\n",
    "\n",
    "array_with_missing_data = np.array([[1, 2, 3],\n",
    "                                    [4, np.nan, 6],\n",
    "                                    [7, 8, np.nan]])\n",
    "\n",
    "missing_data_indices = np.isnan(array_with_missing_data)\n",
    "\n",
    "print(\"Original 2D Array:\")\n",
    "print(array_with_missing_data)\n",
    "print(\"\\nIndices of Missing Data:\")\n",
    "print(missing_data_indices)"
   ]
  },
  {
   "cell_type": "markdown",
   "id": "ceb6da2b",
   "metadata": {},
   "source": [
    "### 3. Write a NumPy program to test whether each element of a 1-D array is also present in a second array."
   ]
  },
  {
   "cell_type": "code",
   "execution_count": 3,
   "id": "c1318ae4",
   "metadata": {},
   "outputs": [
    {
     "name": "stdout",
     "output_type": "stream",
     "text": [
      "Array 1: [10 20 30 40 50]\n",
      "Array 2: [30 40 50 60 70]\n",
      "Result (Is each element of array1 present in array2): [False False  True  True  True]\n"
     ]
    }
   ],
   "source": [
    "import numpy as np\n",
    "\n",
    "array1 = np.array([10, 20, 30, 40, 50])\n",
    "array2 = np.array([30, 40, 50, 60, 70])\n",
    "\n",
    "result = np.isin(array1, array2)\n",
    "\n",
    "print(\"Array 1:\", array1)\n",
    "print(\"Array 2:\", array2)\n",
    "print(\"Result (Is each element of array1 present in array2):\", result)"
   ]
  },
  {
   "cell_type": "markdown",
   "id": "5ba94c66",
   "metadata": {},
   "source": [
    "### 4. Write a NumPy program to save a NumPy array to a text file."
   ]
  },
  {
   "cell_type": "code",
   "execution_count": 4,
   "id": "ca17ae4c",
   "metadata": {},
   "outputs": [
    {
     "name": "stdout",
     "output_type": "stream",
     "text": [
      "Another NumPy array has been saved to output_another_array.txt.\n"
     ]
    }
   ],
   "source": [
    "import numpy as np\n",
    "\n",
    "another_array = np.array([[0.1, 0.2, 0.3],\n",
    "                          [0.4, 0.5, 0.6],\n",
    "                          [0.7, 0.8, 0.9]])\n",
    "\n",
    "another_filename = 'output_another_array.txt'\n",
    "\n",
    "np.savetxt(another_filename, another_array, fmt='%.2f', delimiter='\\t')\n",
    "\n",
    "print(f\"Another NumPy array has been saved to {another_filename}.\")"
   ]
  },
  {
   "cell_type": "markdown",
   "id": "40cf3f0b",
   "metadata": {},
   "source": [
    "### 5. Write a NumPy program to Create a 1-D array of 30 evenly spaced elements between 2.5. and 6.5, inclusive."
   ]
  },
  {
   "cell_type": "code",
   "execution_count": 5,
   "id": "c482ce67",
   "metadata": {},
   "outputs": [
    {
     "name": "stdout",
     "output_type": "stream",
     "text": [
      "1-D Array of 30 evenly spaced elements between 2.5 and 6.5 (inclusive):\n",
      "[2.5        2.63793103 2.77586207 2.9137931  3.05172414 3.18965517\n",
      " 3.32758621 3.46551724 3.60344828 3.74137931 3.87931034 4.01724138\n",
      " 4.15517241 4.29310345 4.43103448 4.56896552 4.70689655 4.84482759\n",
      " 4.98275862 5.12068966 5.25862069 5.39655172 5.53448276 5.67241379\n",
      " 5.81034483 5.94827586 6.0862069  6.22413793 6.36206897 6.5       ]\n"
     ]
    }
   ],
   "source": [
    "import numpy as np\n",
    "\n",
    "result_array = np.linspace(2.5, 6.5, 30)\n",
    "\n",
    "print(\"1-D Array of 30 evenly spaced elements between 2.5 and 6.5 (inclusive):\")\n",
    "print(result_array)"
   ]
  },
  {
   "cell_type": "markdown",
   "id": "f990a500",
   "metadata": {},
   "source": [
    "# Introduction to Pandas (Series and Dataframes)"
   ]
  },
  {
   "cell_type": "markdown",
   "id": "12f0fa9b",
   "metadata": {},
   "source": [
    "#### Pandas is a Python library designed for data manipulation and analysis. It includes data structures like DataFrame and Series, making it simple to work with structured data. Pandas is commonly used for cleaning, exploring, and transforming datasets. It supports operations such as filtering, grouping, and merging, and it is an essential tool in data science and analytics workflows."
   ]
  },
  {
   "cell_type": "markdown",
   "id": "6910462c",
   "metadata": {},
   "source": [
    "### 1. Write a Pandas program to convert Series of lists to one Series. "
   ]
  },
  {
   "cell_type": "code",
   "execution_count": 6,
   "id": "e855928a",
   "metadata": {},
   "outputs": [
    {
     "name": "stdout",
     "output_type": "stream",
     "text": [
      "0     apple\n",
      "1    banana\n",
      "2    orange\n",
      "3        10\n",
      "4        20\n",
      "5        30\n",
      "6      40.0\n",
      "7       dog\n",
      "8       cat\n",
      "9      bird\n",
      "dtype: object\n"
     ]
    }
   ],
   "source": [
    "import pandas as pd\n",
    "\n",
    "data = pd.Series([\n",
    "    ['apple', 'banana', 'orange'],\n",
    "    [10, 20, 30, 40],\n",
    "    ['dog', 'cat', 'bird']\n",
    "])\n",
    "\n",
    "flattened_series = data.apply(pd.Series).stack().reset_index(drop=True)\n",
    "\n",
    "print(flattened_series)"
   ]
  },
  {
   "cell_type": "markdown",
   "id": "5f50892e",
   "metadata": {},
   "source": [
    "### 2. Write a Pandas program to create a subset of a given series based on value andcondition."
   ]
  },
  {
   "cell_type": "code",
   "execution_count": 7,
   "id": "d394012f",
   "metadata": {},
   "outputs": [
    {
     "name": "stdout",
     "output_type": "stream",
     "text": [
      "Original Series:\n",
      "0    10\n",
      "1    25\n",
      "2    30\n",
      "3    15\n",
      "4    20\n",
      "5    35\n",
      "6    40\n",
      "dtype: int64\n",
      "\n",
      "Subset based on condition:\n",
      "1    25\n",
      "2    30\n",
      "5    35\n",
      "6    40\n",
      "dtype: int64\n"
     ]
    }
   ],
   "source": [
    "import pandas as pd\n",
    "\n",
    "data = pd.Series([10, 25, 30, 15, 20, 35, 40])\n",
    "\n",
    "condition = data > 20\n",
    "\n",
    "subset = data[condition]\n",
    "\n",
    "print(\"Original Series:\")\n",
    "print(data)\n",
    "\n",
    "print(\"\\nSubset based on condition:\")\n",
    "print(subset)"
   ]
  },
  {
   "cell_type": "markdown",
   "id": "229cac5d",
   "metadata": {},
   "source": [
    "### 3. Write a Pandas program to display most frequent value in a given series and replace everything else as 'Other' in the series."
   ]
  },
  {
   "cell_type": "code",
   "execution_count": 8,
   "id": "35509f0d",
   "metadata": {},
   "outputs": [
    {
     "name": "stdout",
     "output_type": "stream",
     "text": [
      "Original Series:\n",
      "0    C\n",
      "1    D\n",
      "2    C\n",
      "3    S\n",
      "4    A\n",
      "5    C\n",
      "6    D\n",
      "7    C\n",
      "8    C\n",
      "dtype: object\n",
      "\n",
      "Modified Series:\n",
      "0        C\n",
      "1    Other\n",
      "2        C\n",
      "3    Other\n",
      "4    Other\n",
      "5        C\n",
      "6    Other\n",
      "7        C\n",
      "8        C\n",
      "dtype: object\n"
     ]
    }
   ],
   "source": [
    "import pandas as pd\n",
    "\n",
    "data = {'Category': ['C', 'D', 'C', 'S', 'A', 'C', 'D', 'C', 'C']}\n",
    "original_series = pd.Series(data['Category'])\n",
    "\n",
    "# Find the most frequent value\n",
    "most_frequent_value = original_series.mode()[0]\n",
    "\n",
    "# Replace everything else with 'Other'\n",
    "modified_series = original_series.where(original_series == most_frequent_value, 'Other')\n",
    "\n",
    "print(\"Original Series:\")\n",
    "print(original_series)\n",
    "\n",
    "print(\"\\nModified Series:\")\n",
    "print(modified_series)"
   ]
  },
  {
   "cell_type": "markdown",
   "id": "41c0a03c",
   "metadata": {},
   "source": [
    "### 4. Write a Pandas program to find the positions of numbers that are multiples of 5 of a given series."
   ]
  },
  {
   "cell_type": "code",
   "execution_count": 9,
   "id": "b45b87cd",
   "metadata": {},
   "outputs": [
    {
     "name": "stdout",
     "output_type": "stream",
     "text": [
      "Original Series:\n",
      "0     3\n",
      "1    10\n",
      "2    15\n",
      "3     8\n",
      "4    20\n",
      "5    25\n",
      "6    12\n",
      "7     7\n",
      "8    35\n",
      "dtype: int64\n",
      "\n",
      "Positions of multiples of 5:\n",
      "[1, 2, 4, 5, 8]\n"
     ]
    }
   ],
   "source": [
    "import pandas as pd\n",
    "\n",
    "data = pd.Series([3, 10, 15, 8, 20, 25, 12, 7, 35])\n",
    "\n",
    "positions = data.index[data % 5 == 0].tolist()\n",
    "\n",
    "print(\"Original Series:\")\n",
    "print(data)\n",
    "\n",
    "print(\"\\nPositions of multiples of 5:\")\n",
    "print(positions)"
   ]
  },
  {
   "cell_type": "markdown",
   "id": "a40d0c21",
   "metadata": {},
   "source": [
    "### 5. Write a Pandas program to calculate the number of characters in each word in a given series."
   ]
  },
  {
   "cell_type": "code",
   "execution_count": 10,
   "id": "dacd841d",
   "metadata": {},
   "outputs": [
    {
     "name": "stdout",
     "output_type": "stream",
     "text": [
      "Original Series:\n",
      "0         Hello, world!\n",
      "1     Python is awesome\n",
      "2    Data science rocks\n",
      "3        ML is too good\n",
      "dtype: object\n",
      "\n",
      "Number of words in each phrase:\n",
      "0    2\n",
      "1    3\n",
      "2    3\n",
      "3    4\n",
      "dtype: int64\n"
     ]
    }
   ],
   "source": [
    "import pandas as pd\n",
    "\n",
    "data = pd.Series(['Hello, world!', 'Python is awesome', 'Data science rocks', 'ML is too good'])\n",
    "\n",
    "word_lengths = data.apply(lambda x: len(x.split()))\n",
    "\n",
    "print(\"Original Series:\")\n",
    "print(data)\n",
    "\n",
    "print(\"\\nNumber of words in each phrase:\")\n",
    "print(word_lengths)"
   ]
  },
  {
   "cell_type": "markdown",
   "id": "4c41072d",
   "metadata": {},
   "source": [
    "### 6. Write a Pandas program to convert year-month string to dates adding a specified day of the month."
   ]
  },
  {
   "cell_type": "code",
   "execution_count": 11,
   "id": "09878ab3",
   "metadata": {},
   "outputs": [
    {
     "name": "stdout",
     "output_type": "stream",
     "text": [
      "Original Year-Month Strings:\n",
      "0    2023-06\n",
      "1    2023-07\n",
      "2    2023-08\n",
      "3    2023-09\n",
      "dtype: object\n",
      "\n",
      "Converted Dates with Specified Day (5):\n",
      "0   2023-06-05\n",
      "1   2023-07-05\n",
      "2   2023-08-05\n",
      "3   2023-09-05\n",
      "dtype: datetime64[ns]\n"
     ]
    }
   ],
   "source": [
    "import pandas as pd\n",
    "\n",
    "year_month_strings = pd.Series(['2023-06', '2023-07', '2023-08', '2023-09'])\n",
    "\n",
    "specified_day = 5\n",
    "\n",
    "converted_dates = pd.to_datetime(year_month_strings + '-' + str(specified_day), format='%Y-%m-%d')\n",
    "\n",
    "print(\"Original Year-Month Strings:\")\n",
    "print(year_month_strings)\n",
    "\n",
    "print(\"\\nConverted Dates with Specified Day ({}):\".format(specified_day))\n",
    "print(converted_dates)"
   ]
  },
  {
   "cell_type": "markdown",
   "id": "853764e3",
   "metadata": {},
   "source": [
    "### 7. Write a Pandas program to create and display a DataFrame from a specified dictionary data which has the index labels."
   ]
  },
  {
   "cell_type": "code",
   "execution_count": 12,
   "id": "fd3b338e",
   "metadata": {},
   "outputs": [
    {
     "name": "stdout",
     "output_type": "stream",
     "text": [
      "            Name  Age         City\n",
      "Person_1  Cherry   19     New York\n",
      "Person_2   Deepu   20       London\n",
      "Person_3  Sivani   18  Los Angeles\n"
     ]
    }
   ],
   "source": [
    "import pandas as pd\n",
    "\n",
    "data = {'Name': ['Cherry', 'Deepu', 'Sivani'],\n",
    "        'Age': [19, 20, 18],\n",
    "        'City': ['New York', 'London', 'Los Angeles']}\n",
    "\n",
    "index_labels = ['Person_1', 'Person_2', 'Person_3']\n",
    "df = pd.DataFrame(data, index=index_labels)\n",
    "\n",
    "print(df)"
   ]
  },
  {
   "cell_type": "markdown",
   "id": "664c6e65",
   "metadata": {},
   "source": [
    "### 8. Write a Pandas program to select the rows where the number of attempts in the examination is greater than 2."
   ]
  },
  {
   "cell_type": "code",
   "execution_count": 13,
   "id": "24760940",
   "metadata": {},
   "outputs": [
    {
     "name": "stdout",
     "output_type": "stream",
     "text": [
      "Original DataFrame:\n",
      "  Student  Attempts  Score\n",
      "0  Cherry         1     95\n",
      "1   Bobby         3     88\n",
      "2   Deepu         4     92\n",
      "3  Sivani         2     88\n",
      "\n",
      "Selected Rows where Attempts > 2:\n",
      "  Student  Attempts  Score\n",
      "1   Bobby         3     88\n",
      "2   Deepu         4     92\n"
     ]
    }
   ],
   "source": [
    "import pandas as pd\n",
    "\n",
    "data = {'Student': ['Cherry', 'Bobby', 'Deepu', 'Sivani'],\n",
    "        'Attempts': [1, 3, 4, 2],\n",
    "        'Score': [95, 88, 92, 88]}\n",
    "\n",
    "df = pd.DataFrame(data)\n",
    "\n",
    "selected_rows = df[df['Attempts'] > 2]\n",
    "\n",
    "print(\"Original DataFrame:\")\n",
    "print(df)\n",
    "\n",
    "print(\"\\nSelected Rows where Attempts > 2:\")\n",
    "print(selected_rows)"
   ]
  },
  {
   "cell_type": "markdown",
   "id": "342c371e",
   "metadata": {},
   "source": [
    "### 9. Write a Pandas program to append a new row 'k'to data frame with given values for each column. Now delete the new row and return the original DataFrame."
   ]
  },
  {
   "cell_type": "code",
   "execution_count": 14,
   "id": "ed7a1c74",
   "metadata": {},
   "outputs": [
    {
     "name": "stdout",
     "output_type": "stream",
     "text": [
      "Original DataFrame:\n",
      "     Name  Age         City\n",
      "0  Cherry   19     New York\n",
      "1   Bobby   30       London\n",
      "2   Deepu   20  Los Angeles\n",
      "\n",
      "DataFrame after appending the new row:\n",
      "     Name  Age            City\n",
      "0  Cherry   19        New York\n",
      "1   Bobby   30          London\n",
      "2   Deepu   20     Los Angeles\n",
      "k  Sivani   18  Wichitha kanas\n",
      "\n",
      "Original DataFrame after deleting the new row:\n",
      "     Name  Age         City\n",
      "0  Cherry   19     New York\n",
      "1   Bobby   30       London\n",
      "2   Deepu   20  Los Angeles\n"
     ]
    },
    {
     "name": "stderr",
     "output_type": "stream",
     "text": [
      "C:\\Users\\dell\\AppData\\Local\\Temp\\ipykernel_13572\\2627106639.py:14: FutureWarning: The frame.append method is deprecated and will be removed from pandas in a future version. Use pandas.concat instead.\n",
      "  df = df.append(new_row)\n"
     ]
    }
   ],
   "source": [
    "import pandas as pd\n",
    "\n",
    "data = {'Name': ['Cherry', 'Bobby', 'Deepu'],\n",
    "        'Age': [19, 30, 20],\n",
    "        'City': ['New York', 'London', 'Los Angeles']}\n",
    "\n",
    "df = pd.DataFrame(data)\n",
    "\n",
    "print(\"Original DataFrame:\")\n",
    "print(df)\n",
    "\n",
    "# Append a new row 'k' with given values\n",
    "new_row = pd.DataFrame({'Name': ['Sivani'], 'Age': [18], 'City': ['Wichitha kanas']}, index=['k'])\n",
    "df = df.append(new_row)\n",
    "\n",
    "# Display the DataFrame after appending the new row\n",
    "print(\"\\nDataFrame after appending the new row:\")\n",
    "print(df)\n",
    "\n",
    "# Delete the new row 'k' and return the original DataFrame\n",
    "df = df.drop('k')\n",
    "\n",
    "# Display the original DataFrame after deleting the new row\n",
    "print(\"\\nOriginal DataFrame after deleting the new row:\")\n",
    "print(df)"
   ]
  },
  {
   "cell_type": "markdown",
   "id": "7fbfeb8b",
   "metadata": {},
   "source": [
    "### 10. Write a Pandas program to sort the DataFrame first by 'name' in descending order, then by 'score' in ascending order."
   ]
  },
  {
   "cell_type": "code",
   "execution_count": 15,
   "id": "37d5d7d7",
   "metadata": {},
   "outputs": [
    {
     "name": "stdout",
     "output_type": "stream",
     "text": [
      "Original DataFrame:\n",
      "      Name  Score  Age\n",
      "0    Bobby     75   25\n",
      "1    Deepu     88   30\n",
      "2   Cherry     92   20\n",
      "3  Sandeep     78   22\n",
      "4   Sivani     80   35\n",
      "\n",
      "Sorted DataFrame:\n",
      "      Name  Score  Age\n",
      "4   Sivani     80   35\n",
      "3  Sandeep     78   22\n",
      "1    Deepu     88   30\n",
      "2   Cherry     92   20\n",
      "0    Bobby     75   25\n"
     ]
    }
   ],
   "source": [
    "import pandas as pd\n",
    "\n",
    "data = {'Name': ['Bobby', 'Deepu', 'Cherry', 'Sandeep', 'Sivani'],\n",
    "        'Score': [75, 88, 92, 78, 80],\n",
    "        'Age': [25, 30, 20, 22, 35]}\n",
    "\n",
    "df = pd.DataFrame(data)\n",
    "\n",
    "print(\"Original DataFrame:\")\n",
    "print(df)\n",
    "\n",
    "# Sort the DataFrame first by 'Name' in descending order, then by 'Score' in ascending order\n",
    "sorted_df = df.sort_values(by=['Name', 'Score'], ascending=[False, True])\n",
    "\n",
    "print(\"\\nSorted DataFrame:\")\n",
    "print(sorted_df)"
   ]
  },
  {
   "cell_type": "markdown",
   "id": "5fe32a7b",
   "metadata": {},
   "source": [
    "### 11. Write a Pandas program to replace the 'qualify' column contains the values 'yes' and 'no' with True and False."
   ]
  },
  {
   "cell_type": "code",
   "execution_count": 16,
   "id": "d4274549",
   "metadata": {},
   "outputs": [
    {
     "name": "stdout",
     "output_type": "stream",
     "text": [
      "Original DataFrame:\n",
      "     Name Qualify  Age\n",
      "0    Ammu     yes   25\n",
      "1   Bobby      no   30\n",
      "2  Cherry     yes   22\n",
      "3   Deepu      no   28\n",
      "\n",
      "DataFrame after replacing 'yes' and 'no' with True and False:\n",
      "     Name  Qualify  Age\n",
      "0    Ammu     True   25\n",
      "1   Bobby    False   30\n",
      "2  Cherry     True   22\n",
      "3   Deepu    False   28\n"
     ]
    }
   ],
   "source": [
    "import pandas as pd\n",
    "\n",
    "data = {'Name': ['Ammu', 'Bobby', 'Cherry', 'Deepu'],\n",
    "        'Qualify': ['yes', 'no', 'yes', 'no'],\n",
    "        'Age': [25, 30, 22, 28]}\n",
    "\n",
    "df = pd.DataFrame(data)\n",
    "\n",
    "print(\"Original DataFrame:\")\n",
    "print(df)\n",
    "\n",
    "df['Qualify'] = df['Qualify'].replace({'yes': True, 'no': False})\n",
    "\n",
    "print(\"\\nDataFrame after replacing 'yes' and 'no' with True and False:\")\n",
    "print(df)"
   ]
  },
  {
   "cell_type": "markdown",
   "id": "54b7b049",
   "metadata": {},
   "source": [
    "### 12. Write a Pandas program to remove infinite values from a given DataFrame."
   ]
  },
  {
   "cell_type": "code",
   "execution_count": 17,
   "id": "3da6d5aa",
   "metadata": {},
   "outputs": [
    {
     "name": "stdout",
     "output_type": "stream",
     "text": [
      "Original DataFrame:\n",
      "     X     Y     Z\n",
      "0  1.0   6.0  -inf\n",
      "1  2.0   7.0  12.0\n",
      "2  3.0   inf  13.0\n",
      "3  inf   9.0  14.0\n",
      "4  5.0  10.0  15.0\n",
      "\n",
      "DataFrame after removing infinite values:\n",
      "     X     Y     Z\n",
      "1  2.0   7.0  12.0\n",
      "4  5.0  10.0  15.0\n"
     ]
    }
   ],
   "source": [
    "import pandas as pd\n",
    "import numpy as np\n",
    "\n",
    "data = {'X': [1, 2, 3, np.inf, 5],\n",
    "        'Y': [6, 7, np.inf, 9, 10],\n",
    "        'Z': [-np.inf, 12, 13, 14, 15]}\n",
    "\n",
    "df = pd.DataFrame(data)\n",
    "\n",
    "print(\"Original DataFrame:\")\n",
    "print(df)\n",
    "\n",
    "df.replace([np.inf, -np.inf], np.nan, inplace=True)\n",
    "\n",
    "df = df.dropna()\n",
    "\n",
    "print(\"\\nDataFrame after removing infinite values:\")\n",
    "print(df)"
   ]
  },
  {
   "cell_type": "code",
   "execution_count": null,
   "id": "cb101121",
   "metadata": {},
   "outputs": [],
   "source": []
  }
 ],
 "metadata": {
  "kernelspec": {
   "display_name": "Python 3 (ipykernel)",
   "language": "python",
   "name": "python3"
  },
  "language_info": {
   "codemirror_mode": {
    "name": "ipython",
    "version": 3
   },
   "file_extension": ".py",
   "mimetype": "text/x-python",
   "name": "python",
   "nbconvert_exporter": "python",
   "pygments_lexer": "ipython3",
   "version": "3.9.12"
  }
 },
 "nbformat": 4,
 "nbformat_minor": 5
}
