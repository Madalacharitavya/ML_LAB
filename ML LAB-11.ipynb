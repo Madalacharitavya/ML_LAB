{
 "cells": [
  {
   "cell_type": "markdown",
   "id": "055b4874",
   "metadata": {},
   "source": [
    "# SUPPORT VECTOR MACHINE\n",
    "\n",
    "\n",
    "                                                                                                  - M.NAGA CHARITAVYA\n",
    "                                                                                                      AP21110010027"
   ]
  },
  {
   "cell_type": "markdown",
   "id": "86651077",
   "metadata": {},
   "source": [
    "### Apply Support Vector Machine (SVM) to the &quot;Social_Network_Ads.csv&quot; dataset for classification, and what were the key factors considered in selecting the SVM model, including preprocessing steps, kernel choice, and evaluation metrics used."
   ]
  },
  {
   "cell_type": "code",
   "execution_count": 1,
   "id": "12a83ec0",
   "metadata": {},
   "outputs": [],
   "source": [
    "import pandas as pd\n",
    "from sklearn.model_selection import train_test_split\n",
    "from sklearn.preprocessing import StandardScaler\n",
    "from sklearn.svm import SVC\n",
    "from sklearn.metrics import accuracy_score, classification_report"
   ]
  },
  {
   "cell_type": "code",
   "execution_count": 2,
   "id": "e53ba292",
   "metadata": {},
   "outputs": [],
   "source": [
    "# Load the datset\n",
    "data = pd.read_csv(\"Social_Network_Ads.csv\")"
   ]
  },
  {
   "cell_type": "code",
   "execution_count": 3,
   "id": "bc7847dd",
   "metadata": {},
   "outputs": [],
   "source": [
    "X = data.iloc[:, [2, 3]].values  \n",
    "y = data.iloc[:, 4].values       \n",
    "X_train, X_test, y_train, y_test = train_test_split(X, y, test_size=0.2, random_state=42)\n",
    "\n",
    "scaler = StandardScaler()\n",
    "X_train_scaled = scaler.fit_transform(X_train)\n",
    "X_test_scaled = scaler.transform(X_test)\n",
    "\n",
    "svm_classifier = SVC(kernel='rbf', C=1.0, gamma='scale')  # Using RBF kernel\n",
    "svm_classifier.fit(X_train_scaled, y_train)\n",
    "\n",
    "y_pred = svm_classifier.predict(X_test_scaled)"
   ]
  },
  {
   "cell_type": "code",
   "execution_count": 4,
   "id": "38a064d5",
   "metadata": {},
   "outputs": [
    {
     "name": "stdout",
     "output_type": "stream",
     "text": [
      "Accuracy: 0.925\n",
      "Classification Report:\n",
      "              precision    recall  f1-score   support\n",
      "\n",
      "           0       0.98      0.90      0.94        52\n",
      "           1       0.84      0.96      0.90        28\n",
      "\n",
      "    accuracy                           0.93        80\n",
      "   macro avg       0.91      0.93      0.92        80\n",
      "weighted avg       0.93      0.93      0.93        80\n",
      "\n"
     ]
    }
   ],
   "source": [
    "accuracy = accuracy_score(y_test, y_pred)\n",
    "print(\"Accuracy:\", accuracy)\n",
    "print(\"Classification Report:\")\n",
    "print(classification_report(y_test, y_pred))"
   ]
  },
  {
   "cell_type": "code",
   "execution_count": null,
   "id": "539cea67",
   "metadata": {},
   "outputs": [],
   "source": []
  }
 ],
 "metadata": {
  "kernelspec": {
   "display_name": "Python 3 (ipykernel)",
   "language": "python",
   "name": "python3"
  },
  "language_info": {
   "codemirror_mode": {
    "name": "ipython",
    "version": 3
   },
   "file_extension": ".py",
   "mimetype": "text/x-python",
   "name": "python",
   "nbconvert_exporter": "python",
   "pygments_lexer": "ipython3",
   "version": "3.9.12"
  }
 },
 "nbformat": 4,
 "nbformat_minor": 5
}
